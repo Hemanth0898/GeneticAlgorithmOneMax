{
 "cells": [
  {
   "cell_type": "code",
   "execution_count": 1,
   "metadata": {},
   "outputs": [],
   "source": [
    "import random\n",
    "import matplotlib.pyplot as plt"
   ]
  },
  {
   "cell_type": "code",
   "execution_count": 2,
   "metadata": {},
   "outputs": [],
   "source": [
    "from deap import base,creator,tools"
   ]
  },
  {
   "cell_type": "code",
   "execution_count": 3,
   "metadata": {},
   "outputs": [],
   "source": [
    "Induvidual_Length = 10"
   ]
  },
  {
   "cell_type": "code",
   "execution_count": 4,
   "metadata": {},
   "outputs": [],
   "source": [
    "def FitnessFunction(individual):\n",
    "  return sum(individual),"
   ]
  },
  {
   "cell_type": "code",
   "execution_count": 5,
   "metadata": {},
   "outputs": [],
   "source": [
    "creator.create(\"Fitness\", base.Fitness, weights=(1.0,))\n",
    "creator.create(\"Individual\", list, fitness=creator.Fitness)"
   ]
  },
  {
   "cell_type": "code",
   "execution_count": 6,
   "metadata": {},
   "outputs": [
    {
     "data": {
      "text/plain": [
       "1"
      ]
     },
     "execution_count": 6,
     "metadata": {},
     "output_type": "execute_result"
    }
   ],
   "source": [
    "toolbox = base.Toolbox()\n",
    "toolbox.register(\"zeroOrOne\", random.randint, 0, 1)\n",
    "toolbox.zeroOrOne()"
   ]
  },
  {
   "cell_type": "code",
   "execution_count": 7,
   "metadata": {},
   "outputs": [
    {
     "data": {
      "text/plain": [
       "[1, 1, 1, 1, 1, 0, 1, 0, 0, 0]"
      ]
     },
     "execution_count": 7,
     "metadata": {},
     "output_type": "execute_result"
    }
   ],
   "source": [
    "toolbox.register(\"individualGenerator\", tools.initRepeat, creator.Individual, toolbox.zeroOrOne, Induvidual_Length)\n",
    "toolbox.individualGenerator()"
   ]
  },
  {
   "cell_type": "code",
   "execution_count": 8,
   "metadata": {},
   "outputs": [
    {
     "data": {
      "text/plain": [
       "[[0, 1, 0, 1, 0, 1, 0, 1, 0, 0],\n",
       " [1, 0, 0, 1, 1, 1, 0, 1, 1, 1],\n",
       " [0, 1, 1, 0, 1, 0, 1, 1, 1, 1],\n",
       " [1, 0, 1, 0, 0, 1, 1, 0, 0, 0]]"
      ]
     },
     "execution_count": 8,
     "metadata": {},
     "output_type": "execute_result"
    }
   ],
   "source": [
    "toolbox.register(\"populationGenerator\", tools.initRepeat, list, toolbox.individualGenerator)\n",
    "toolbox.populationGenerator(4)"
   ]
  },
  {
   "cell_type": "code",
   "execution_count": 9,
   "metadata": {},
   "outputs": [
    {
     "data": {
      "text/plain": [
       "(5,)"
      ]
     },
     "execution_count": 9,
     "metadata": {},
     "output_type": "execute_result"
    }
   ],
   "source": [
    "toolbox.register(\"evaluate\", FitnessFunction)\n",
    "toolbox.evaluate([1, 0, 1, 0, 0, 1, 0, 1, 0, 1])"
   ]
  },
  {
   "cell_type": "code",
   "execution_count": 10,
   "metadata": {},
   "outputs": [],
   "source": [
    "toolbox.register(\"select\", tools.selTournament, tournsize=3)"
   ]
  },
  {
   "cell_type": "code",
   "execution_count": 11,
   "metadata": {},
   "outputs": [],
   "source": [
    "generation = 0\n",
    "generationMaxFitness = []\n",
    "generationMeanFitness = []"
   ]
  },
  {
   "cell_type": "code",
   "execution_count": 12,
   "metadata": {},
   "outputs": [
    {
     "data": {
      "text/plain": [
       "[(2,), (3,), (6,), (7,), (5,), (5,), (5,), (7,), (5,), (4,)]"
      ]
     },
     "execution_count": 12,
     "metadata": {},
     "output_type": "execute_result"
    }
   ],
   "source": [
    "population = toolbox.populationGenerator(10)\n",
    "fitnessValues = list(map(toolbox.evaluate, population))\n",
    "fitnessValues"
   ]
  },
  {
   "cell_type": "code",
   "execution_count": 13,
   "metadata": {},
   "outputs": [
    {
     "data": {
      "text/plain": [
       "[2.0, 3.0, 6.0, 7.0, 5.0, 5.0, 5.0, 7.0, 5.0, 4.0]"
      ]
     },
     "execution_count": 13,
     "metadata": {},
     "output_type": "execute_result"
    }
   ],
   "source": [
    "for individual, fitnessValue in zip(population, fitnessValues):\n",
    "    individual.fitness.values = fitnessValue\n",
    "fitnessValues = [individual.fitness.values[0] for individual in population]\n",
    "fitnessValues"
   ]
  },
  {
   "cell_type": "code",
   "execution_count": 14,
   "metadata": {},
   "outputs": [
    {
     "name": "stdout",
     "output_type": "stream",
     "text": [
      "Generation 1: Max Fitness = 4.0, Avg Fitness = 4.0\n",
      "Generation 2: Max Fitness = 4.0, Avg Fitness = 4.0\n",
      "Generation 3: Max Fitness = 4.0, Avg Fitness = 4.0\n",
      "Generation 4: Max Fitness = 4.0, Avg Fitness = 4.0\n",
      "Generation 5: Max Fitness = 4.0, Avg Fitness = 4.0\n",
      "Generation 6: Max Fitness = 4.0, Avg Fitness = 4.0\n",
      "Generation 7: Max Fitness = 4.0, Avg Fitness = 4.0\n",
      "Generation 8: Max Fitness = 4.0, Avg Fitness = 4.0\n",
      "Generation 9: Max Fitness = 4.0, Avg Fitness = 4.0\n",
      "Generation 10: Max Fitness = 4.0, Avg Fitness = 4.0\n",
      "Generation 11: Max Fitness = 4.0, Avg Fitness = 4.0\n",
      "Generation 12: Max Fitness = 4.0, Avg Fitness = 4.0\n",
      "Generation 13: Max Fitness = 4.0, Avg Fitness = 4.0\n",
      "Generation 14: Max Fitness = 4.0, Avg Fitness = 4.0\n",
      "Generation 15: Max Fitness = 4.0, Avg Fitness = 4.0\n",
      "Generation 16: Max Fitness = 4.0, Avg Fitness = 4.0\n",
      "Generation 17: Max Fitness = 4.0, Avg Fitness = 4.0\n",
      "Generation 18: Max Fitness = 4.0, Avg Fitness = 4.0\n",
      "Generation 19: Max Fitness = 4.0, Avg Fitness = 4.0\n",
      "Generation 20: Max Fitness = 4.0, Avg Fitness = 4.0\n",
      "Generation 21: Max Fitness = 4.0, Avg Fitness = 4.0\n",
      "Generation 22: Max Fitness = 4.0, Avg Fitness = 4.0\n",
      "Generation 23: Max Fitness = 4.0, Avg Fitness = 4.0\n",
      "Generation 24: Max Fitness = 4.0, Avg Fitness = 4.0\n",
      "Generation 25: Max Fitness = 4.0, Avg Fitness = 4.0\n",
      "Generation 26: Max Fitness = 4.0, Avg Fitness = 4.0\n",
      "Generation 27: Max Fitness = 4.0, Avg Fitness = 4.0\n",
      "Generation 28: Max Fitness = 4.0, Avg Fitness = 4.0\n",
      "Generation 29: Max Fitness = 4.0, Avg Fitness = 4.0\n",
      "Generation 30: Max Fitness = 4.0, Avg Fitness = 4.0\n",
      "Generation 31: Max Fitness = 4.0, Avg Fitness = 4.0\n",
      "Generation 32: Max Fitness = 4.0, Avg Fitness = 4.0\n",
      "Generation 33: Max Fitness = 4.0, Avg Fitness = 4.0\n",
      "Generation 34: Max Fitness = 4.0, Avg Fitness = 4.0\n",
      "Generation 35: Max Fitness = 4.0, Avg Fitness = 4.0\n",
      "Generation 36: Max Fitness = 4.0, Avg Fitness = 4.0\n",
      "Generation 37: Max Fitness = 4.0, Avg Fitness = 4.0\n",
      "Generation 38: Max Fitness = 4.0, Avg Fitness = 4.0\n",
      "Generation 39: Max Fitness = 4.0, Avg Fitness = 4.0\n",
      "Generation 40: Max Fitness = 4.0, Avg Fitness = 4.0\n",
      "Generation 41: Max Fitness = 4.0, Avg Fitness = 4.0\n",
      "Generation 42: Max Fitness = 4.0, Avg Fitness = 4.0\n",
      "Generation 43: Max Fitness = 4.0, Avg Fitness = 4.0\n",
      "Generation 44: Max Fitness = 4.0, Avg Fitness = 4.0\n",
      "Generation 45: Max Fitness = 4.0, Avg Fitness = 4.0\n",
      "Generation 46: Max Fitness = 4.0, Avg Fitness = 4.0\n",
      "Generation 47: Max Fitness = 4.0, Avg Fitness = 4.0\n",
      "Generation 48: Max Fitness = 4.0, Avg Fitness = 4.0\n",
      "Generation 49: Max Fitness = 4.0, Avg Fitness = 4.0\n",
      "Generation 50: Max Fitness = 4.0, Avg Fitness = 4.0\n"
     ]
    }
   ],
   "source": [
    "while(max(fitnessValues) < Induvidual_Length and generation < 50):\n",
    "    generation = generation + 1\n",
    "    offspring = toolbox.select(population, len(population))\n",
    "    offspring = list(map(toolbox.clone, offspring))\n",
    "        \n",
    "    newIndividuals = [i for i in offspring if not i.fitness.valid]\n",
    "    newFitnessValues = list(map(toolbox.evaluate, newIndividuals))\n",
    "        \n",
    "    for individual, fitnessValue in zip(newIndividuals, newFitnessValues):\n",
    "        individual.fitness.values = fitnessValue\n",
    "    population[:] = offspring\n",
    "    fitnessValues = [individual.fitness.values[0] for i in population]\n",
    "\n",
    "    maximum = max(fitnessValues)\n",
    "    mean = sum(fitnessValues) / len(population)\n",
    "    generationMaxFitness.append(maximum)\n",
    "    generationMeanFitness.append(mean)\n",
    "    print(\"Generation {}: Max Fitness = {}, Avg Fitness = {}\".format(generation, maximum, mean))"
   ]
  },
  {
   "cell_type": "code",
   "execution_count": 15,
   "metadata": {},
   "outputs": [
    {
     "data": {
      "image/png": "[encoded data removed]",
      "text/plain": [
       "<Figure size 432x288 with 1 Axes>"
      ]
     },
     "metadata": {
      "needs_background": "light"
     },
     "output_type": "display_data"
    }
   ],
   "source": [
    "plt.plot(generationMaxFitness, color='Green')\n",
    "plt.plot(generationMeanFitness, color='Blue')\n",
    "plt.xlabel('Generation')\n",
    "plt.ylabel('Fitness')\n",
    "plt.show()"
   ]
  },
  {
   "cell_type": "code",
   "execution_count": null,
   "metadata": {},
   "outputs": [],
   "source": []
  }
 ],
 "metadata": {
  "kernelspec": {
   "display_name": "Python 3",
   "language": "python",
   "name": "python3"
  },
  "language_info": {
   "codemirror_mode": {
    "name": "ipython",
    "version": 3
   },
   "file_extension": ".py",
   "mimetype": "text/x-python",
   "name": "python",
   "nbconvert_exporter": "python",
   "pygments_lexer": "ipython3",
   "version": "3.6.3"
  }
 },
 "nbformat": 4,
 "nbformat_minor": 2
}
